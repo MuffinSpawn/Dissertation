{
 "cells": [
  {
   "cell_type": "code",
   "execution_count": 4,
   "metadata": {
    "collapsed": false
   },
   "outputs": [
    {
     "name": "stdout",
     "output_type": "stream",
     "text": [
      "The autoreload extension is already loaded. To reload it, use:\n",
      "  %reload_ext autoreload\n"
     ]
    }
   ],
   "source": [
    "%load_ext autoreload\n",
    "%autoreload 2\n",
    "%matplotlib inline\n",
    "import math\n",
    "import os\n",
    "import os.path as path\n",
    "import platform\n",
    "import sys\n",
    "import numpy as np  # NumPy (multidimensional arrays, linear algebra, ...)\n",
    "import matplotlib as mpl\n",
    "import matplotlib.cm as cm\n",
    "import matplotlib.collections as mcollections\n",
    "import matplotlib.patches as mpatches\n",
    "import matplotlib.pyplot as plt  # Matplotlib's pyplot: MATLAB-like syntax\n",
    "import scipy.signal as sig\n",
    "import pgl.signal as signal\n",
    "import pgl.labview as labview\n",
    "import pgl.comsol as comsol\n",
    "import pgl.tektronix as tektronix\n",
    "import pgl.plot as plot\n",
    "import pgl.curve as curve\n",
    "\n",
    "def reset_plot_params():\n",
    "    mpl.rcParams['ytick.labelsize'] = 22\n",
    "    mpl.rcParams['xtick.labelsize'] = 22\n",
    "    mpl.rcParams['axes.labelsize'] = 26\n",
    "    mpl.rcParams['font.size'] = 26\n",
    "    mpl.rcParams['mathtext.default'] = 'regular'\n",
    "    mpl.rcParams['figure.subplot.left'] = 0.02\n",
    "    mpl.rcParams['figure.subplot.right'] = 0.98\n",
    "    mpl.rcParams['figure.subplot.top'] = 0.9\n",
    "    mpl.rcParams['figure.subplot.bottom'] = 0.1\n",
    "    mpl.rcParams['figure.subplot.wspace'] = 0.2\n",
    "    mpl.rcParams['figure.subplot.hspace'] = 0.2\n",
    "reset_plot_params()"
   ]
  },
  {
   "cell_type": "markdown",
   "metadata": {},
   "source": [
    "# High-Pressure Cavity"
   ]
  },
  {
   "cell_type": "markdown",
   "metadata": {},
   "source": [
    "## HPC Observed vs. Simulated RF Hammer Comparison"
   ]
  },
  {
   "cell_type": "raw",
   "metadata": {},
   "source": [
    "HPRF/HPRF.ipynb"
   ]
  },
  {
   "cell_type": "code",
   "execution_count": null,
   "metadata": {
    "collapsed": false
   },
   "outputs": [],
   "source": [
    "%matplotlib qt\n",
    "lv_dir = \"C:\\\\Users\\\\plane\\\\Desktop\\\\Data\\\\HPRF\\\\HPRF 20120614\\\\sparks_36MV-M_15Hz\\\\\"\n",
    "if platform.system() == 'Linux':\n",
    "    lv_dir = \"/home/lane/Data/HPRF/HPRF 20120614/sparks_36MV-M_15Hz/\"\n",
    "lv_file = \"spark_66_68.npz\"\n",
    "(times, real_hammer_signals) = labview.load_data(lv_dir, lv_file, t0=0.029342, t1=0.039342, channels=(0,5,3,))  # channels=(0,5,3,6,))\n",
    "(frequencies, magnitudes, phases) = signal.spectra(times, real_hammer_signals)\n",
    "fig = plt.figure(figsize=(20.0, 8.0))\n",
    "plt.subplot(221)\n",
    "#plt.xlabel('Time (s)')\n",
    "plt.ylabel('Normalized Voltage')\n",
    "plot.plot_signals(times*1e6, real_hammer_signals, tlim=300, ylim=1.5, norm=True)\n",
    "plt.subplot(222)\n",
    "#plt.xlabel('Frequency (Hz)')\n",
    "plt.ylabel('Normalized Magnitude')\n",
    "plot.plot_signals(frequencies*1e-3, magnitudes, ylim=(0,1.2), tlim=30, norm=True)\n",
    "\n",
    "comsol_dir = \"C:\\\\Users\\\\plane\\\\Desktop\\\\Data\\\\COMSOL\\\\HPRF\\\\RF Hammer with Thin Elastic Layer\\\\\"\n",
    "if platform.system() == 'Linux':\n",
    "    comsol_dir = \"/home/lane/Data/COMSOL/HPRF/RF Hammer with Thin Elastic Layer/\"\n",
    "comsol_file = \"\\S0_TEL_r_1e9_z_21e6_S1_TEL_r_15e6_z_1e9_S5_TEL_r_1e9_z_37e6_10ms.npy\"\n",
    "(times, sim_hammer_signals_set) = comsol.load_data(comsol_dir, comsol_file, dt=2e-6)\n",
    "\n",
    "sim_hammer_signals = sim_hammer_signals_set[0]\n",
    "(frequencies, magnitudes, phases) = signal.spectra(times, sim_hammer_signals)\n",
    "print signal.peaks(frequencies, magnitudes[2])[:10]\n",
    "plt.subplot(223)\n",
    "plt.xlabel(r'Time ($\\mu s$)')\n",
    "plt.ylabel('Normalized Voltage')\n",
    "plot.plot_signals(times*1e6, sim_hammer_signals, tlim=300, ylim=1.2, norm=True)\n",
    "plt.subplot(224)\n",
    "plt.xlabel(r'Frequency ($kHz$)')\n",
    "plt.ylabel('Normalized Magnitude')\n",
    "#plot.plot_spectra(times, sim_hammer_signals, flim=3e4, ylim=1.2, norm=True)\n",
    "plot.plot_signals(frequencies*1e-3, magnitudes, ylim=(0,1.2), tlim=30, norm=True)\n",
    "plt.show()\n"
   ]
  },
  {
   "cell_type": "markdown",
   "metadata": {},
   "source": [
    "## HPC RF Hammer Events"
   ]
  },
  {
   "cell_type": "raw",
   "metadata": {},
   "source": [
    "HPRF/HPRF.ipynb"
   ]
  },
  {
   "cell_type": "code",
   "execution_count": null,
   "metadata": {
    "collapsed": false
   },
   "outputs": [],
   "source": [
    "%matplotlib qt\n",
    "lv_dir = \"C:\\\\Users\\\\plane\\\\Desktop\\\\Data\\\\HPRF\\\\HPRF 20120614\\\\sparks_36MV-M_15Hz\\\\\"\n",
    "if platform.system() == 'Linux':\n",
    "    lv_dir = \"/home/lane/Data/COMSOL/HPRF/HPRF 20120614/sparks_36MV-M_15Hz/\"\n",
    "lv_file = \"spark_66_68.npz\"\n",
    "(times, real_hammer_signals) = labview.load_data(lv_dir, lv_file, t0=0.029342, t1=0.039342, channels=(0,5,3,))  # channels=(0,5,3,6,))\n",
    "(frequencies, magnitudes, phases) = signal.spectra(times, real_hammer_signals)\n",
    "fig = plt.figure(figsize=(20.0, 8.0))\n",
    "plt.xlabel(r'Time ($\\mu s$)')\n",
    "plt.ylabel('Normalized Voltage')\n",
    "plot.plot_signals(times*1e6, real_hammer_signals, tlim=150, ylim=1.5, norm=True)\n",
    "\n",
    "plt.show()"
   ]
  },
  {
   "cell_type": "markdown",
   "metadata": {},
   "source": [
    "## HPC Breakdown"
   ]
  },
  {
   "cell_type": "raw",
   "metadata": {},
   "source": [
    "HPRF/HPRF.ipynb"
   ]
  },
  {
   "cell_type": "code",
   "execution_count": null,
   "metadata": {
    "collapsed": false
   },
   "outputs": [],
   "source": [
    "%matplotlib qt\n",
    "lv_dir = \"C:\\\\Users\\\\plane\\\\Desktop\\\\Data\\\\HPRF\\\\HPRF 20120614\\\\sparks_36MV-M_15Hz\\\\\"\n",
    "if platform.system() == 'Linux':\n",
    "    lv_dir = \"/home/lane/Data/HPRF/HPRF 20120614/sparks_36MV-M_15Hz/\"\n",
    "# lv_file = \"spark_66_68.npz\"\n",
    "lv_file = \"reduced_66_68.npz\"\n",
    "(times, real_breakdown_signals) = labview.load_data(lv_dir, lv_file, t0=0.296092, t1=0.296694, channels=(0, 1, 5, ))  # channels=(0,5,3,6,))\n",
    "fig = plt.figure(figsize=(20.0, 8.0))\n",
    "plt.subplot(211)\n",
    "#plt.xlabel(r'Time ($\\mu s$)')\n",
    "plt.ylabel(r'Amplitude ($V$)')\n",
    "#plt.tight_layout()\n",
    "plot.plot_signals(times*1e6, real_breakdown_signals, tlim=600, ylim=4.6)\n",
    "\n",
    "plt.subplot(212)\n",
    "comsol_dir = \"C:\\\\Users\\\\plane\\\\Desktop\\\\Data\\\\COMSOL\\\\HPRF\\\\Shockwave\\\\\"\n",
    "if platform.system() == 'Linux':\n",
    "    comsol_dir = \"/home/lane/Data/COMSOL/HPRF/Shockwave/\"\n",
    "comsol_file = \"HprfBreakdown2D_k_z_S0_100e5_k_r_S1_100e5_k_z_S5_100e5_T_270K.npy\"\n",
    "(times, sim_breakdown_signals) = comsol.load_data(comsol_dir, comsol_file, dt=2e-6)\n",
    "plt.xlabel(r'Time ($\\mu s$)')\n",
    "plt.ylabel(r'Pressure ($Pa$)')\n",
    "plot.plot_signals(times*1e6, sim_breakdown_signals[0], tlim=600, ylim=0.55)\n",
    "\n",
    "plt.show()"
   ]
  },
  {
   "cell_type": "markdown",
   "metadata": {},
   "source": [
    "## HPC Simulated 2D Breakdown"
   ]
  },
  {
   "cell_type": "code",
   "execution_count": null,
   "metadata": {
    "collapsed": false
   },
   "outputs": [],
   "source": [
    "comsol_dir = \"C:\\\\Users\\\\plane\\\\Desktop\\\\Data\\\\COMSOL\\\\HPRF\\\\Shockwave\\\\\"\n",
    "if platform.system() == 'Linux':\n",
    "    comsol_dir = \"/home/lane/Data/COMSOL/HPRF/Shockwave/\"\n",
    "#comsol_file = \"HprfBreakdown2D_k_z_S0_390e5_k_r_S1_0_k_z_S5_480e5_T_250K.npy\"\n",
    "comsol_file = \"HprfBreakdown2D_k_z_S0_100e5_k_r_S1_100e5_k_z_S5_100e5_T_270K.npy\"\n",
    "(times, sim_breakdown_signals) = comsol.load_data(comsol_dir, comsol_file, dt=2e-6)\n",
    "fig = plt.figure(figsize=(20.0, 8.0))\n",
    "plt.xlabel(r'Time ($\\mu s$)')\n",
    "plt.ylabel(r'Pressure ($Pa$)')\n",
    "plt.tight_layout()\n",
    "plot.plot_signals(times*1e6, sim_breakdown_signals[0], tlim=600, ylim=0.75)\n",
    "\n",
    "plt.show()"
   ]
  },
  {
   "cell_type": "markdown",
   "metadata": {},
   "source": [
    "## HPC Simulated 3D Breakdown"
   ]
  },
  {
   "cell_type": "code",
   "execution_count": null,
   "metadata": {
    "collapsed": true
   },
   "outputs": [],
   "source": [
    "comsol_dir = \"C:\\\\Users\\\\plane\\\\Desktop\\\\Data\\\\COMSOL\\\\HPRF\\\\Shockwave\\\\\"\n",
    "if platform.system() == 'Linux':\n",
    "    comsol_dir = \"/home/lane/Data/COMSOL/HPRF/Shockwave/\"\n",
    "#comsol_file = \"HprfBreakdown2D_k_z_S0_390e5_k_r_S1_0_k_z_S5_480e5_T_250K.npy\"\n",
    "comsol_file = \"HPRF Shockwave.npy\"\n",
    "(times, sim_breakdown_signals) = comsol.load_data(comsol_dir, comsol_file, dt=2e-6)\n",
    "fig = plt.figure(figsize=(20.0, 8.0))\n",
    "plt.xlabel(r'Time ($\\mu s$)')\n",
    "plt.ylabel(r'Pressure ($Pa$)')\n",
    "plt.tight_layout()\n",
    "plot.plot_signals(times*1e6, sim_breakdown_signals[0], tlim=600, ylim=1.1, norm=True)\n",
    "\n",
    "plt.show()"
   ]
  },
  {
   "cell_type": "markdown",
   "metadata": {},
   "source": [
    "# MICE Cavity"
   ]
  },
  {
   "cell_type": "markdown",
   "metadata": {},
   "source": [
    "## Raw Signals"
   ]
  },
  {
   "cell_type": "code",
   "execution_count": null,
   "metadata": {
    "collapsed": false,
    "scrolled": true
   },
   "outputs": [],
   "source": [
    "%matplotlib qt\n",
    "fig = plt.figure(figsize=(20.0, 8.0))\n",
    "lv_dir = \"C:\\\\Users\\plane\\\\\\Desktop\\\\Data\\\\SCM\\\\Runs\\\\20141117\\\\\"\n",
    "if platform.system() == 'Linux':\n",
    "    lv_dir = \"/home/lane/Data/SCM/Runs/20141117/\"\n",
    "fig.text(0.5, 0.05, r'Time ($\\mu s$)', ha='center', va='center', size=18)\n",
    "\n",
    "# RF Hammer\n",
    "plt.subplot(121)\n",
    "lv_file = \"raw_2014-11-17_8-18-43.457@20_18_43.457.npz\"\n",
    "channels = range(0, 24)\n",
    "(times, raw_hammer_signals) = labview.load_data(lv_dir, lv_file, channels=channels)  # channels=(0,5,3,6,))\n",
    "#plt.xlabel(r'Time ($\\mu s$)')\n",
    "plt.ylabel('Amplitude (V)')\n",
    "plot.plot_signals(times*1e6, raw_hammer_signals, tlim=600, ylim=5.1)\n",
    "\n",
    "# Spark\n",
    "plt.subplot(122)\n",
    "lv_file = \"raw_2014-11-18_10-10-20.060@10_10_20.060.npz\"\n",
    "(times, raw_spark_signals) = labview.load_data(lv_dir, lv_file, channels=channels)  # channels=(0,5,3,6,))\n",
    "#plt.xlabel(r'Time ($\\mu s$)')\n",
    "plot.plot_signals(times*1e6, raw_spark_signals, tlim=600, ylim=5.1)\n",
    "\n",
    "plt.show()"
   ]
  },
  {
   "cell_type": "markdown",
   "metadata": {},
   "source": [
    "## Tap Test"
   ]
  },
  {
   "cell_type": "code",
   "execution_count": null,
   "metadata": {
    "collapsed": false,
    "scrolled": true
   },
   "outputs": [],
   "source": [
    "%matplotlib qt\n",
    "fig = plt.figure(figsize=(20.0, 8.0))\n",
    "lv_dir = \"C:\\\\Users\\plane\\\\\\Desktop\\\\Data\\\\SCM\\\\Testing\\\\20150108\\\\\"\n",
    "if platform.system() == 'Linux':\n",
    "    lv_dir = \"/home/lane/Data/SCM/Testing/20150108/\"\n",
    "lv_file = \"Data_1448_19_29@14_52_31.057.npz\"\n",
    "channels = range(0, 23)\n",
    "(times, raw_hammer_signals) = labview.load_data(lv_dir, lv_file, channels=channels)  # channels=(0,5,3,6,))\n",
    "plt.xlabel(r'Time ($\\mu s$)')\n",
    "plt.ylabel('Amplitude (V)')\n",
    "plt.tight_layout()\n",
    "plot.plot_signals(times*1e6, raw_hammer_signals, tlim=100000, ylim=5.1)\n",
    "\n",
    "plt.show()"
   ]
  },
  {
   "cell_type": "markdown",
   "metadata": {},
   "source": [
    "## RFI Test"
   ]
  },
  {
   "cell_type": "code",
   "execution_count": null,
   "metadata": {
    "collapsed": false
   },
   "outputs": [],
   "source": [
    "%matplotlib qt\n",
    "fig = plt.figure(figsize=(20.0, 8.0))\n",
    "fig.text(0.5, 0.05, r'Time ($\\mu s$)', ha='center', va='center', size=18)\n",
    "lv_dir = \"C:\\\\Users\\plane\\\\\\Desktop\\\\Data\\\\SCM\\\\Runs\\\\2015-03-25\\\\\"\n",
    "if platform.system() == 'Linux':\n",
    "    lv_dir = \"/home/lane/Data/SCM/Runs/2015-03-25/\"\n",
    "lv_file = \"raw_data_2015-03-25@16_09_32.431.npz\"\n",
    "channels = range(0, 12)\n",
    "(times, real_hammer_signals) = labview.load_data(lv_dir, lv_file, channels=channels)\n",
    "(frequencies, magnitudes, phases) = signal.spectra(times, real_hammer_signals)\n",
    "\n",
    "plt.subplot(121)\n",
    "plt.ylabel('Amplitude (V)')\n",
    "plot.plot_signals(times*1e6, real_hammer_signals, tlim=1500, ylim=5)\n",
    "\n",
    "plt.subplot(122)\n",
    "rfi_mic_channel = 8\n",
    "plot.plot_signals(times*1e6, [real_hammer_signals[8]], tlim=1500, ylim=5)\n",
    "\n",
    "plt.tight_layout()\n",
    "plt.show()"
   ]
  },
  {
   "cell_type": "markdown",
   "metadata": {},
   "source": [
    "## Simulated Width vs Radius"
   ]
  },
  {
   "cell_type": "code",
   "execution_count": null,
   "metadata": {
    "collapsed": true
   },
   "outputs": [],
   "source": [
    "directory = \"C:\\\\Users\\\\plane\\\\Dropbox\\\\Research\\\\MTA\\\\Analysis\\\\SCM\\\\Frequency vs Distance Study\\\\\"\n",
    "if platform.system() == 'Linux':\n",
    "    directory = \"/home/lane/Dropbox/Research/MTA/Analysis/SCM/Frequency vs Distance Study/\"\n",
    "filename = \"line_cut_time_series.npz\"\n",
    "data = np.load(''.join((directory, filename)))\n",
    "keys = ['_'.join(('arr', str(i))) for i in range(len(data.keys()))]\n",
    "a_vs_x_at_t = np.array([data[key][1] for key in keys])\n",
    "shape = np.shape(a_vs_x_at_t)\n",
    "a_vs_t_at_x = np.transpose(a_vs_x_at_t)[np.floor(shape[1]/2):,:np.floor(shape[0]/4)]\n",
    "dt = 2.e-6\n",
    "num_time_steps = np.shape(a_vs_t_at_x)[1]-1\n",
    "times = np.linspace(0, num_time_steps*dt, num=num_time_steps+1)*1.e6\n",
    "widths = np.linspace(1, 20, num=np.size(times))\n",
    "wavefront_widths = np.empty(np.shape(a_vs_t_at_x)[0])\n",
    "for index,signal in enumerate(a_vs_t_at_x):\n",
    "    cwtmatr = sig.cwt(signal, sig.ricker, widths)\n",
    "    min_indicies = np.unravel_index(cwtmatr.argmin(), cwtmatr.shape)\n",
    "    wavefront_widths[index] = widths[min_indicies[0]]\n",
    "    sys.stdout.write('.'); sys.stdout.flush()"
   ]
  },
  {
   "cell_type": "code",
   "execution_count": null,
   "metadata": {
    "collapsed": false
   },
   "outputs": [],
   "source": [
    "%matplotlib qt\n",
    "radii = data['arr_0'][0, np.floor(shape[1]/2):]*1e5\n",
    "radii -= radii[0]\n",
    "fig = plt.figure(figsize=(10.0, 8.0))\n",
    "plt.plot(radii, wavefront_widths, 'k')\n",
    "plt.xlim((0,radii[-1]))\n",
    "plt.ylim((2,6))\n",
    "plt.xlabel('Radius (cm)')\n",
    "plt.ylabel(r'Width ($\\mu s$)')\n",
    "plt.show()"
   ]
  },
  {
   "cell_type": "markdown",
   "metadata": {},
   "source": [
    "## Simulated Window vs Body Wavefront Time"
   ]
  },
  {
   "cell_type": "code",
   "execution_count": null,
   "metadata": {
    "collapsed": false
   },
   "outputs": [],
   "source": [
    "%matplotlib qt\n",
    "signals = [a_vs_t_at_x[122]/abs(a_vs_t_at_x[122]).max(), a_vs_t_at_x[215]/abs(a_vs_t_at_x[215]).max()]\n",
    "fig = plt.figure(figsize=(10.0, 8.0))\n",
    "plot.plot_signals(times, signals, tlim=500, ylim=1.1)\n",
    "plt.ylabel('Normalized Amplitude')\n",
    "plt.xlabel(r'Time ($\\mu s$)')\n",
    "plt.tight_layout()\n",
    "#plt.show()"
   ]
  },
  {
   "cell_type": "markdown",
   "metadata": {
    "collapsed": true
   },
   "source": [
    "# Modular Cavity"
   ]
  },
  {
   "cell_type": "markdown",
   "metadata": {
    "collapsed": true
   },
   "source": [
    "## Quiet Signals"
   ]
  },
  {
   "cell_type": "code",
   "execution_count": 3,
   "metadata": {
    "collapsed": false
   },
   "outputs": [],
   "source": [
    "%matplotlib qt\n",
    "lv_dir = \"C:\\\\Users\\\\plane\\\\Desktop\\\\Data\\\\MC\\\\2015-09-02\\\\\"\n",
    "if platform.system() == 'Linux':\n",
    "    lv_dir = \"/home/lane/Data/MC/2015-09-02/\"\n",
    "lv_file = \"rf_hammer.npz\"\n",
    "fig = plt.figure(figsize=(20.0, 8.0))\n",
    "fig.text(0.5, 0.05, r'Time ($ms$)', ha='center', va='center', size=26)\n",
    "\n",
    "(times, passive_hammer_signals) = labview.load_data(lv_dir, lv_file, channels=[0,1,2,3,4,5,6,7])\n",
    "plt.subplot(121)\n",
    "plt.ylabel('Amplitude (V)')\n",
    "plot.plot_signals(times*1e3, passive_hammer_signals, tlim=51.2, ylim=1.2)\n",
    "\n",
    "(times, active_hammer_signals) = labview.load_data(lv_dir, lv_file, channels=[8,9,10])\n",
    "plt.subplot(122)\n",
    "plot.plot_signals(times*1e3, active_hammer_signals[(0,2),:], tlim=51.2, ylim=12)\n",
    "\n",
    "plt.show()"
   ]
  },
  {
   "cell_type": "markdown",
   "metadata": {},
   "source": [
    "## Breakdown vs. Raw"
   ]
  },
  {
   "cell_type": "code",
   "execution_count": 2,
   "metadata": {
    "collapsed": false
   },
   "outputs": [],
   "source": [
    "%matplotlib qt\n",
    "lv_dir = \"C:\\\\Users\\\\plane\\\\Desktop\\\\Data\\\\MC\\\\2015-12-21\\\\\"\n",
    "if platform.system() == 'Linux':\n",
    "    lv_dir = \"/home/lane/Desktop/Data/MC/2015-12-21/\"\n",
    "lv_files = [\"raw_data_2015-12-21@02_28_40.867.npz\", \"reduced_data_2015-12-21@11_05_57.532.npz\"]\n",
    "\n",
    "fig = plt.figure(figsize=(20.0, 8.0))\n",
    "fig.text(0.5, 0.05, r'Time ($ms$)', ha='center', va='center', size=26)\n",
    "\n",
    "(times, preamp_hammer_signals) = labview.load_data(lv_dir, lv_files[0])\n",
    "plt.subplot(121)\n",
    "plt.ylabel('Amplitude (V)')\n",
    "plot.plot_signals(times*1e3, preamp_hammer_signals/np.max(preamp_hammer_signals), tlim=12.8, ylim=1.5)\n",
    "#plot.plot_signals(times*1e3, preamp_hammer_signals/np.max(preamp_hammer_signals), tlim=(0.04, 0.1), ylim=1.2)\n",
    "\n",
    "(times, preamp_breakdown_signals) = labview.load_data(lv_dir, lv_files[1])\n",
    "plt.subplot(122)\n",
    "#plot.plot_signals(times*1e3, preamp_breakdown_signals, tlim=12.8, ylim=1.2)\n",
    "plot.plot_signals(times*1e3, preamp_breakdown_signals, tlim=(0.04, 0.1), ylim=1.5)\n",
    "\n",
    "plt.show()"
   ]
  },
  {
   "cell_type": "markdown",
   "metadata": {},
   "source": [
    "## Six Downstream, Breakdown Signals"
   ]
  },
  {
   "cell_type": "code",
   "execution_count": 4,
   "metadata": {
    "collapsed": false
   },
   "outputs": [],
   "source": [
    "%matplotlib qt\n",
    "lv_dir = \"C:\\\\Users\\\\plane\\\\Desktop\\\\Data\\\\MC\\\\2015-12-21\\\\\"\n",
    "if platform.system() == 'Linux':\n",
    "    lv_dir = \"/home/lane/Desktop/Data/MC/2015-12-21/\"\n",
    "lv_files = [\"reduced_data_2015-12-21@11_05_57.472.npz\",\n",
    "            \"reduced_data_2015-12-21@11_05_57.532.npz\",\n",
    "            \"reduced_data_2015-12-21@11_22_07.377.npz\",\n",
    "            \"reduced_data_2015-12-21@11_33_25.640.npz\",\n",
    "            \"reduced_data_2015-12-21@11_49_41.805.npz\",\n",
    "            \"reduced_data_2015-12-21@12_12_39.628.npz\"]\n",
    "\n",
    "fig = plt.figure(figsize=(20.0, 8.0))\n",
    "fig.text(0.5, 0.05, r'Time ($ms$)', ha='center', va='center', size=26)\n",
    "fig.text(0.02, 0.5, r'Amplitude ($V$)', ha='center', va='center', size=26, rotation='vertical')\n",
    "for index,lv_file in enumerate(lv_files):\n",
    "    (times, breakdown_signals) = labview.load_data(lv_dir, lv_file, t0=40e-6, t1=100e-6, channels=[4,5,6,7])\n",
    "    plt.subplot(231+index)\n",
    "    upsampled_signals = np.zeros((np.shape(breakdown_signals)[0], np.shape(breakdown_signals)[1]*2))\n",
    "    upsampled_times = np.linspace(0, times[-1], np.shape(upsampled_signals)[1])\n",
    "    for i,signal in enumerate(breakdown_signals):\n",
    "        upsampled_signals[i] = np.roll(sig.resample(signal, len(signal)*2), -i)\n",
    "    plot.plot_signals(upsampled_times*1e6, upsampled_signals, tlim=50)\n"
   ]
  },
  {
   "cell_type": "markdown",
   "metadata": {},
   "source": [
    "## 100 Simulated Sparks: predicted vs. actual"
   ]
  },
  {
   "cell_type": "code",
   "execution_count": 9,
   "metadata": {
    "collapsed": false
   },
   "outputs": [],
   "source": [
    "%matplotlib qt\n",
    "def plot_source_locations(predicted_xs, predicted_ys, actual_xs, actual_ys, error_radius=0.9, cavity_radius=14.22):\n",
    "    # center marks\n",
    "    source_xs = np.hstack((predicted_xs, actual_xs))\n",
    "    source_ys = np.hstack((predicted_ys, actual_ys))\n",
    "\n",
    "    mark_radii = np.repeat(10, len(predicted_xs))\n",
    "    mark_colors = np.repeat(5, len(predicted_xs))\n",
    "    plt.scatter(predicted_xs, predicted_ys, s=10, c='k', cmap=cm.Set1, alpha=1.0)\n",
    "\n",
    "    fig = plt.gcf()\n",
    "    ax = fig.gca()\n",
    "\n",
    "    # error circles\n",
    "    patches = []\n",
    "    for coordinate in zip(predicted_xs,predicted_ys):\n",
    "        patches.append(mpatches.Circle(coordinate, error_radius))\n",
    "    collection = mcollections.PatchCollection(patches, color='k', alpha=0.2)\n",
    "    collection.set_array(np.repeat(0.5, len(predicted_xs)))\n",
    "    ax.add_collection(collection)\n",
    "\n",
    "    # damage marks\n",
    "    patches = []\n",
    "    for coordinate in zip(actual_xs,actual_ys):\n",
    "        patches.append(mpatches.RegularPolygon(coordinate, 5, 0.4))\n",
    "    collection = mcollections.PatchCollection(patches, color='k', alpha=0.2)\n",
    "    #collection.set_array(np.repeat(0.5, len(source_xs_0)))\n",
    "    ax.add_collection(collection)\n",
    "\n",
    "\n",
    "    # cavity\n",
    "    cavity=plt.Circle((0,0),cavity_radius,color='k',alpha=0.1)\n",
    "    ax.add_artist(cavity)\n",
    "\n",
    "    plt.xlim((-16, 16))\n",
    "    plt.ylim((-16, 16))\n",
    "\n",
    "fig = plt.figure(figsize=(17,9))\n",
    "fig.text(0.5, 0.05, r'x (cm)', ha='center', va='center', size=26)\n",
    "\n",
    "plt.subplot(121)\n",
    "plt.ylabel('y (cm)')\n",
    "spark_locations = np.load(\"C:\\\\Users\\\\plane\\\\Documents\\\\spark_locations.npy\")\n",
    "actual_locations = np.load(\"C:\\\\Users\\\\plane\\\\Documents\\\\actual_locations.npy\")\n",
    "plot_source_locations(spark_locations[:,0], spark_locations[:,1], actual_locations[:,0], actual_locations[:,1])\n",
    "plt.subplot(122)\n",
    "spark_locations = np.load(\"C:\\\\Users\\\\plane\\\\Documents\\\\spark_locations_8.npy\")\n",
    "plot_source_locations(spark_locations[:,0], spark_locations[:,1], actual_locations[:,0], actual_locations[:,1])"
   ]
  },
  {
   "cell_type": "markdown",
   "metadata": {},
   "source": [
    "## B=3T Spark Damage"
   ]
  },
  {
   "cell_type": "code",
   "execution_count": 5,
   "metadata": {
    "collapsed": false
   },
   "outputs": [],
   "source": [
    "%matplotlib qt\n",
    "def plot_source_locations(predicted_xs, predicted_ys, actual_xs, actual_ys, error_radius=0.9, cavity_radius=14.22):\n",
    "    # center marks\n",
    "    source_xs = np.hstack((predicted_xs, actual_xs))\n",
    "    source_ys = np.hstack((predicted_ys, actual_ys))\n",
    "\n",
    "    fig = plt.gcf()\n",
    "    ax = fig.gca()\n",
    "\n",
    "    # error circles\n",
    "    patches = []\n",
    "    for coordinate in zip(predicted_xs,predicted_ys):\n",
    "        patches.append(mpatches.Circle(coordinate, error_radius))\n",
    "    collection = mcollections.PatchCollection(patches, color='k', alpha=0.1)\n",
    "    collection.set_array(np.repeat(0.5, len(predicted_xs)))\n",
    "    ax.add_collection(collection)\n",
    "\n",
    "    # damage marks\n",
    "    plt.scatter(actual_xs, actual_ys, s=10, c='k', cmap=cm.Set1, alpha=1.0)\n",
    "    \"\"\"\n",
    "    patches = []\n",
    "    for coordinate in zip(actual_xs,actual_ys):\n",
    "        patches.append(mpatches.RegularPolygon(coordinate, 5, 0.4))\n",
    "    collection = mcollections.PatchCollection(patches, color='k', alpha=0.2)\n",
    "    #collection.set_array(np.repeat(0.5, len(source_xs_0)))\n",
    "    ax.add_collection(collection)\n",
    "    \"\"\"\n",
    "\n",
    "    \"\"\"\n",
    "    # cavity\n",
    "    cavity=plt.Circle((0,0),cavity_radius,color='k',alpha=0.1)\n",
    "    ax.add_artist(cavity)\n",
    "    \"\"\"\n",
    "\n",
    "    # damage stddev\n",
    "    damage_stddev = 2.2\n",
    "    stddev_circle=plt.Circle((1.45392578, -1.7784455),damage_stddev,color='r',alpha=0.1)\n",
    "    ax.add_artist(stddev_circle)\n",
    "\n",
    "    mark_radii = np.repeat(10, len(predicted_xs))\n",
    "    mark_colors = np.repeat(5, len(predicted_xs))\n",
    "    plt.scatter(predicted_xs, predicted_ys, s=10, c='w', cmap=cm.Set1, alpha=1.0)\n",
    "\n",
    "    plt.xlim((-4, 7))\n",
    "    plt.ylim((-7, 4))\n",
    "\n",
    "DS_auto_predictions = np.array([[1.7, -2.7], [1.7, -3.0], [2.9, -0.7], [2.9, -0.3], [0.7, -0.3], [2.3, -1.0]])\n",
    "DS_manual_predictions = np.array([[1.1, -3.5], [1.1, -3.4], [2.0, -0.1], [2.5, 0.1], [1.4, 0.1], [1.8, -0.8]])\n",
    "\n",
    "directory = 'C:/Users/plane/Desktop/Data/MC/'\n",
    "US_coordinate_file = ''.join((directory, 'US_B=3T_coord_in_cm_aligned.npy'))\n",
    "DS_coordinate_file = ''.join((directory, 'DS_B=3T_coord_in_cm_aligned.npy'))\n",
    "US_coordinates = np.load(US_coordinate_file)\n",
    "DS_coordinates = np.load(DS_coordinate_file)\n",
    "\n",
    "fig = plt.figure(figsize=(12,6))\n",
    "fig.text(0.5, 0.05, r'x (cm)', ha='center', va='center', size=26)\n",
    "\n",
    "plt.subplot(121)\n",
    "plt.ylabel('y (cm)')\n",
    "plot_source_locations([], [], US_coordinates[:,0], US_coordinates[:,1])\n",
    "\n",
    "plt.subplot(122)\n",
    "#plot_source_locations(DS_manual_predictions[:,0], DS_manual_predictions[:,1], DS_coordinates[:,0], DS_coordinates[:,1])\n",
    "plot_source_locations(DS_auto_predictions[:,0], DS_auto_predictions[:,1], DS_coordinates[:,0], DS_coordinates[:,1])"
   ]
  },
  {
   "cell_type": "code",
   "execution_count": 41,
   "metadata": {
    "collapsed": false
   },
   "outputs": [
    {
     "name": "stdout",
     "output_type": "stream",
     "text": [
      "(168L, 2L)\n",
      "Damage Centroid: [ 1.45392578 -1.7784455 ]\n",
      "Damage Centroid Std. Dev.: 2.23593894425\n",
      "Damage Centroid Radius (cm): 2.29712180139\n",
      "Damage Centroid Angle (deg): 309.26689824\n",
      "Prediction Centroid: [ 2.03333333 -1.33333333]\n",
      "Prediction Centroid Std. Dev.: 1.34577528255\n",
      "Prediction Centroid Radius (cm): 2.43150616331\n",
      "Prediction Centroid Angle (deg): 326.745633425\n",
      "Centroid Distance: 0.730642146349\n"
     ]
    }
   ],
   "source": [
    "print np.shape(DS_coordinates)\n",
    "damage_centroid = np.average(DS_coordinates, axis=0)\n",
    "damage_stddev = math.sqrt(np.sum(np.sum((DS_coordinates-damage_centroid)**2, axis=1)) / len(DS_coordinates))\n",
    "print 'Damage Centroid:', damage_centroid\n",
    "print 'Damage Centroid Std. Dev.:', damage_stddev\n",
    "print 'Damage Centroid Radius (cm):', math.sqrt(np.sum(damage_centroid**2))\n",
    "print 'Damage Centroid Angle (deg):', 360 + math.atan2(damage_centroid[1], damage_centroid[0]) * 180 / math.pi\n",
    "\n",
    "prediction_centroid = np.average(DS_auto_predictions, axis=0)\n",
    "prediction_stddev = math.sqrt(np.sum(np.sum((DS_auto_predictions-prediction_centroid)**2, axis=1)) / len(DS_auto_predictions))\n",
    "print 'Prediction Centroid:', prediction_centroid\n",
    "print 'Prediction Centroid Std. Dev.:', prediction_stddev\n",
    "print 'Prediction Centroid Radius (cm):', math.sqrt(np.sum(prediction_centroid**2))\n",
    "print 'Prediction Centroid Angle (deg):', 360 + math.atan2(prediction_centroid[1], prediction_centroid[0]) * 180 / math.pi\n",
    "print 'Centroid Distance:', math.sqrt(np.sum((damage_centroid-prediction_centroid)**2))"
   ]
  },
  {
   "cell_type": "markdown",
   "metadata": {
    "collapsed": true
   },
   "source": [
    "# Dielectric-Loaded High Pressure Cavity"
   ]
  },
  {
   "cell_type": "markdown",
   "metadata": {
    "collapsed": true
   },
   "source": [
    "## 120 Degree Microphone Rotation Signal Comparison"
   ]
  },
  {
   "cell_type": "code",
   "execution_count": 30,
   "metadata": {
    "collapsed": false
   },
   "outputs": [],
   "source": [
    "%matplotlib qt\n",
    "def average_signals(directory, files, channels):\n",
    "    avg_signals = np.zeros((3, 5119))\n",
    "    for file in files:\n",
    "        (times, signals) = labview.load_data(directory, file, channels=channels)\n",
    "        avg_signals += signals\n",
    "    avg_signals /= len(files)\n",
    "    return (times, avg_signals)\n",
    "\n",
    "fig = plt.figure(figsize=(14.0, 5.8))\n",
    "fig.text(0.53, 0.05, r'Time ($\\mu s$)', ha='center', va='center', size=24)\n",
    "fig.text(0.02, 0.58, 'Normalized Amplitude (V)', ha='center', va='center', rotation='vertical', size=24)\n",
    "\n",
    "lv_dir = \"C:\\\\Users\\\\plane\\\\Desktop\\\\Data\\\\HPRF\\\\2015-11-12\\\\Hammer\\\\\"\n",
    "if platform.system() == 'Linux':\n",
    "    lv_dir = \"/home/lane/Data/HPRF/2015-11-12/Hammer/\"\n",
    "lv_files = [ f for f in os.listdir(lv_dir) if (path.isfile(path.join(lv_dir,f)) and f.startswith(\"raw_data_\") and f.endswith(\".npz\")) ]\n",
    "(times, avg_hammer_signals_0deg) = average_signals(lv_dir, lv_files, [0, 1, 2])\n",
    "times = times*1e6\n",
    "plt.subplot(231)\n",
    "plt.xlim([0,200])\n",
    "plt.ylim([-1.1,1.1])\n",
    "plt.plot(times, avg_hammer_signals_0deg[0]/np.max(avg_hammer_signals_0deg[0]), 'k')\n",
    "plt.text(5.0, 0.6, r'Mic #1', size=24)\n",
    "plt.text(5.0, -0.9, r'$0^\\circ$', size=24)\n",
    "plt.subplot(232)\n",
    "plt.xlim([0,200])\n",
    "plt.ylim([-1.1,1.1])\n",
    "plt.plot(times, avg_hammer_signals_0deg[1]/np.max(avg_hammer_signals_0deg[1]), 'k')\n",
    "plt.text(5.0, 0.6, r'Mic #2', size=24)\n",
    "plt.text(5.0, -0.9, r'$120^\\circ$', size=24)\n",
    "plt.subplot(233)\n",
    "plt.xlim([0,200])\n",
    "plt.ylim([-1.1,1.1])\n",
    "plt.plot(times, avg_hammer_signals_0deg[2]/np.max(avg_hammer_signals_0deg[2]), 'k')\n",
    "plt.text(5.0, 0.6, r'Mic #3', size=24)\n",
    "plt.text(5.0, -0.9, r'$240^\\circ$', size=24)\n",
    "\n",
    "lv_dir = \"C:\\\\Users\\\\plane\\\\Desktop\\\\Data\\\\HPRF\\\\2015-11-13\\\\Hammer\\\\\"\n",
    "if platform.system() == 'Linux':\n",
    "    lv_dir = \"/home/lane/Data/HPRF/2015-11-13/Hammer/\"\n",
    "lv_files = [ f for f in os.listdir(lv_dir) if (path.isfile(path.join(lv_dir,f)) and f.startswith(\"raw_data_\") and f.endswith(\".npz\")) ]\n",
    "(times, avg_hammer_signals_120deg) = average_signals(lv_dir, lv_files, [0, 1, 2])\n",
    "times = times*1e6\n",
    "plt.subplot(234)\n",
    "plt.xlim([0,200])\n",
    "plt.ylim([-1.1,1.1])\n",
    "plt.plot(times, avg_hammer_signals_120deg[2]/np.max(avg_hammer_signals_120deg[2]), 'k')\n",
    "plt.text(5.0, 0.6, r'Mic #3', size=24)\n",
    "plt.text(5.0, -0.9, r'$0^\\circ$', size=24)\n",
    "plt.subplot(235)\n",
    "plt.xlim([0,200])\n",
    "plt.ylim([-1.1,1.1])\n",
    "plt.plot(times, avg_hammer_signals_120deg[0]/np.max(avg_hammer_signals_120deg[0]), 'k')\n",
    "plt.text(5.0, 0.6, r'Mic #1', size=24)\n",
    "plt.text(5.0, -0.9, r'$120^\\circ$', size=24)\n",
    "plt.subplot(236)\n",
    "plt.xlim([0,200])\n",
    "plt.ylim([-1.1,1.1])\n",
    "plt.plot(times, avg_hammer_signals_120deg[1]/np.max(avg_hammer_signals_120deg[1]), 'k')\n",
    "plt.text(5.0, 0.6, r'Mic #2', size=24)\n",
    "plt.text(5.0, -0.9, r'$240^\\circ$', size=24)\n",
    "\n",
    "plt.gcf().subplots_adjust(bottom=0.15, top=0.95, left=0.09, hspace=0.3, wspace=0.25)\n",
    "plt.show()\n"
   ]
  },
  {
   "cell_type": "markdown",
   "metadata": {
    "collapsed": true
   },
   "source": [
    "## Microphone Rotation Test Localizations"
   ]
  },
  {
   "cell_type": "code",
   "execution_count": 50,
   "metadata": {
    "collapsed": false
   },
   "outputs": [],
   "source": [
    "def plot_source_locations(source_xs_0, source_ys_0, source_xs_120, source_ys_120, source_xs_90, source_ys_90,\n",
    "                          damage_xs=[], damage_ys=[]):\n",
    "    # center marks\n",
    "    #source_xs = np.hstack((source_xs_0, source_xs_120, source_xs_90, damage_xs))\n",
    "    #source_ys = np.hstack((source_ys_0, source_ys_120, source_ys_90, damage_ys))\n",
    "    source_xs = np.hstack((source_xs_0, source_xs_120, source_xs_90))\n",
    "    source_ys = np.hstack((source_ys_0, source_ys_120, source_ys_90))\n",
    "\n",
    "    mark_radii = np.repeat(10, len(source_xs))\n",
    "    mark_colors = np.repeat(5, len(source_xs))\n",
    "    plt.scatter(source_xs, source_ys, s=mark_radii, c=mark_colors, cmap=cm.Set1, alpha=1.0)\n",
    "\n",
    "    fig = plt.gcf()\n",
    "    ax = fig.gca()\n",
    "    error_radius = 2.9\n",
    "\n",
    "    # error circles\n",
    "    patches = []\n",
    "    for coordinate in zip(source_xs_0,source_ys_0):\n",
    "        patches.append(mpatches.Circle(coordinate, error_radius))\n",
    "    collection = mcollections.PatchCollection(patches, cmap=cm.brg, norm=mpl.colors.Normalize(0.,1.), alpha=0.2)\n",
    "    collection.set_array(np.repeat(0.5, len(source_xs_0)))\n",
    "    ax.add_collection(collection)\n",
    "\n",
    "    patches = []\n",
    "    for coordinate in zip(source_xs_120,source_ys_120):\n",
    "        patches.append(mpatches.Circle(coordinate, error_radius))\n",
    "    collection = mcollections.PatchCollection(patches, cmap=cm.brg, norm=mpl.colors.Normalize(0.,1.), alpha=0.2)\n",
    "    collection.set_array(np.repeat(1.0, len(source_xs_120)))\n",
    "    ax.add_collection(collection)\n",
    "\n",
    "    patches = []\n",
    "    for coordinate in zip(source_xs_90,source_ys_90):\n",
    "        patches.append(mpatches.Circle(coordinate, error_radius))\n",
    "    collection = mcollections.PatchCollection(patches, cmap=cm.brg, norm=mpl.colors.Normalize(0.,1.), alpha=0.2)\n",
    "    collection.set_array(np.repeat(0.0, len(source_xs_90)))\n",
    "    ax.add_collection(collection)\n",
    "\n",
    "    # damage marks\n",
    "    patches = []\n",
    "    for coordinate in zip(damage_xs,damage_ys):\n",
    "        coordinate = np.array(coordinate)\n",
    "        #patches.append(mpatches.RegularPolygon(coordinate, 5, 0.4))\n",
    "        patches.append(mpatches.Rectangle(coordinate-[0.04,0.4], 0.08, 0.8))\n",
    "        patches.append(mpatches.Rectangle(coordinate-[0.4,0.05], 0.8, 0.08))\n",
    "    collection = mcollections.PatchCollection(patches, color='k', alpha=1.0)\n",
    "    #collection.set_array(np.repeat(0.5, len(source_xs_0)))\n",
    "    ax.add_collection(collection)\n",
    "\n",
    "\n",
    "    # cavity\n",
    "    origin_x = np.zeros(1)\n",
    "    origin_y = np.zeros(1)\n",
    "    cavity_radius = 10000\n",
    "    #plt.scatter([0, 0], [0, 0], s=[90000, 0], c=[3,1], cmap=cm.Set1, alpha=0.1)\n",
    "    cavity=plt.Circle((0,0),11.43,color='k',alpha=0.1)\n",
    "    ax.add_artist(cavity)\n",
    "\n",
    "    plt.xlim((-16, 16))\n",
    "    plt.ylim((-16, 16))\n"
   ]
  },
  {
   "cell_type": "code",
   "execution_count": 32,
   "metadata": {
    "collapsed": false
   },
   "outputs": [
    {
     "name": "stdout",
     "output_type": "stream",
     "text": [
      ". . . . . . . . . . . . . . . . .\n",
      ". . . . . . .\n",
      ". . . . . . . . . . . . . . . . . . . . . . . . . . . .\n",
      "Done\n"
     ]
    }
   ],
   "source": [
    "#v_p_SS = 7.0e5  # cm/s\n",
    "v_p_SS = 5.79e5  # cm/s\n",
    "#v_p_SS = 4.5e5  # cm/s\n",
    "#v_p_SS = 3.1e5  # cm/s\n",
    "#v_p_SS = 2.3e5  # cm/s  Lower computational limit\n",
    "radius = 11.43  # cm\n",
    "thickness = 5.08  # cm\n",
    "settling_time = 1.25e-6\n",
    "\n",
    "# 0 Degrees\n",
    "lv_dir = \"C:\\\\Users\\\\plane\\\\Desktop\\\\Data\\\\HPRF\\\\2015-11-12\\\\Breakdown\\\\\"\n",
    "if platform.system() == 'Linux':\n",
    "    lv_dir = \"/home/lane/Data/HPRF/2015-11-12/Breakdown/\"\n",
    "lv_files = sorted([ f for f in os.listdir(lv_dir) if (path.isfile(path.join(lv_dir,f)) and f.startswith(\"reduced_data_\") and f.endswith(\".npz\")) ])\n",
    "rs = [11.0, 11.0, 11.0]  # cm\n",
    "thetas = np.array([11.5, 19.5, 3.5]) * math.pi / 12.0\n",
    "xs = map(lambda r,theta: r * math.cos(theta), rs, thetas)\n",
    "ys = map(lambda r,theta: r * math.sin(theta), rs, thetas)\n",
    "mic_coordinates = np.array(zip(xs, ys))\n",
    "spark_locations_0 = np.empty((len(lv_files), 2))\n",
    "for index,lv_file in enumerate(lv_files):\n",
    "    (times, breakdown_signals) = labview.load_data(lv_dir, lv_file, channels=[0,1,2])\n",
    "    dt = times[1] - times[0]\n",
    "    spark_location = signal.accumulated_correlation(breakdown_signals[:,5:20], dt, mic_coordinates, radius, thickness, v_p_SS, grid_size=100, settling_time=settling_time)\n",
    "    spark_locations_0[index] = spark_location\n",
    "    print '.',\n",
    "print\n",
    "\n",
    "# 120 Degrees\n",
    "lv_dir = \"C:\\\\Users\\\\plane\\\\Desktop\\\\Data\\\\HPRF\\\\2015-11-13\\\\Breakdown\\\\\"\n",
    "if platform.system() == 'Linux':\n",
    "    lv_dir = \"/home/lane/Data/HPRF/2015-11-13/Breakdown/\"\n",
    "lv_files = sorted([ f for f in os.listdir(lv_dir) if (path.isfile(path.join(lv_dir,f)) and f.startswith(\"reduced_data_\") and f.endswith(\".npz\")) ])\n",
    "rs = [11.0, 11.0, 11.0]  # cm\n",
    "thetas = np.array([19.5, 3.5, 11.5]) * math.pi / 12.0  # 120 degree rotation\n",
    "xs = map(lambda r,theta: r * math.cos(theta), rs, thetas)\n",
    "ys = map(lambda r,theta: r * math.sin(theta), rs, thetas)\n",
    "mic_coordinates = np.array(zip(xs, ys))\n",
    "spark_locations_120 = np.empty((7, 2))\n",
    "for index,lv_file in enumerate(lv_files[:7]):\n",
    "    (times, breakdown_signals) = labview.load_data(lv_dir, lv_file, channels=[0,1,2])\n",
    "    dt = times[1] - times[0]\n",
    "    spark_location = signal.accumulated_correlation(breakdown_signals[:,5:20], dt, mic_coordinates, radius, thickness, v_p_SS, grid_size=100, settling_time=settling_time)\n",
    "    spark_locations_120[index] = spark_location\n",
    "    print '.',\n",
    "print\n",
    "\n",
    "# 90 Degrees\n",
    "lv_dir = \"C:\\\\Users\\\\plane\\\\Desktop\\\\Data\\\\HPRF\\\\2015-11-13\\\\Breakdown\\\\\"\n",
    "if platform.system() == 'Linux':\n",
    "    lv_dir = \"/home/lane/Data/HPRF/2015-11-13/Breakdown/\"\n",
    "lv_files = sorted([ f for f in os.listdir(lv_dir) if (path.isfile(path.join(lv_dir,f)) and f.startswith(\"reduced_data_\") and f.endswith(\".npz\")) ])\n",
    "rs = [11.0, 11.0, 11.0]  # cm\n",
    "thetas = np.array([17.5, 1.5, 9.5]) * math.pi / 12.0  # 90 degree rotation\n",
    "xs = map(lambda r,theta: r * math.cos(theta), rs, thetas)\n",
    "ys = map(lambda r,theta: r * math.sin(theta), rs, thetas)\n",
    "mic_coordinates = np.array(zip(xs, ys))\n",
    "spark_locations_90 = np.empty((len(lv_files)-7, 2))\n",
    "for index,lv_file in enumerate(lv_files[7:]):\n",
    "    (times, breakdown_signals) = labview.load_data(lv_dir, lv_file, channels=[0,1,2])\n",
    "    dt = times[1] - times[0]\n",
    "    spark_location = signal.accumulated_correlation(breakdown_signals[:,5:20], dt, mic_coordinates, radius, thickness, v_p_SS, grid_size=100, settling_time=settling_time)\n",
    "    spark_locations_90[index] = spark_location\n",
    "    print '.',\n",
    "print\n",
    "print 'Done'"
   ]
  },
  {
   "cell_type": "code",
   "execution_count": 51,
   "metadata": {
    "collapsed": false
   },
   "outputs": [],
   "source": [
    "%matplotlib qt\n",
    "fig = plt.figure(figsize=(14.0, 7.0))\n",
    "fig.text(0.51, 0.02, 'x (cm)', ha='center', va='center', fontsize=26)\n",
    "fig.text(0.02, 0.52, 'y (cm)', ha='center', va='center', rotation='vertical', fontsize=26)\n",
    "plt.gcf().subplots_adjust(bottom=0.15, left=0.06)\n",
    "plt.subplot(121)\n",
    "plot_source_locations(spark_locations_0[:,0], spark_locations_0[:,1],\n",
    "                      spark_locations_120[:,0], spark_locations_120[:,1],\n",
    "                      spark_locations_90[:,0], spark_locations_90[:,1],\n",
    "                      [0.8,-0.9,-5.4,-3.2,-4.8], [5.2,4.9,0.6,-5.6,-9.5])\n",
    "plt.subplot(122)\n",
    "indicies_0 = np.hstack(((9,10,11,14),))\n",
    "indicies_120 = np.arange(2, len(spark_locations_120))\n",
    "indicies_90 = np.hstack(((1,3),np.arange(5,11),(14,16,21,22,23)))\n",
    "plot_source_locations(spark_locations_0[indicies_0,0], spark_locations_0[indicies_0,1],\n",
    "                      spark_locations_120[indicies_120,0],spark_locations_120[indicies_120,1],\n",
    "                      spark_locations_90[indicies_90,0], spark_locations_90[indicies_90,1],\n",
    "                      [0.8,-0.9,-5.4,-3.2,-4.8], [5.2,4.9,0.6,-5.6,-9.5])\n"
   ]
  },
  {
   "cell_type": "code",
   "execution_count": 4,
   "metadata": {
    "collapsed": false
   },
   "outputs": [
    {
     "data": {
      "text/plain": [
       "array([ 1,  2,  3,  5,  6,  7,  8,  9, 10, 14, 16, 21, 22, 23])"
      ]
     },
     "execution_count": 4,
     "metadata": {},
     "output_type": "execute_result"
    }
   ],
   "source": [
    "np.hstack(((1,2,3),np.arange(5,11),(14,16),(21,22,23)))"
   ]
  },
  {
   "cell_type": "markdown",
   "metadata": {},
   "source": [
    "# All Seasons Cavity"
   ]
  },
  {
   "cell_type": "markdown",
   "metadata": {
    "collapsed": true
   },
   "source": [
    "## Distorted Hammer and Spark"
   ]
  },
  {
   "cell_type": "code",
   "execution_count": 3,
   "metadata": {
    "collapsed": true
   },
   "outputs": [],
   "source": [
    "#%matplotlib qt\n",
    "lv_dir = \"C:\\\\Users\\\\plane\\\\Desktop\\\\Data\\\\ASC\\\\20130306\\\\\"\n",
    "if platform.system() == 'Linux':\n",
    "    lv_dir = \"/home/lane/Data/ASC/20130306/\"\n",
    "lv_file = \"hammer@18_00_00.000.npz\"\n",
    "(times, distorted_hammer_signals) = labview.load_data(lv_dir, lv_file, channels=[1, 2, 3, 4, 5])\n",
    "fig = plt.figure(figsize=(14.0, 4.0))\n",
    "#fig.suptitle(\"RF Hammer Signals\", fontsize=12)\n",
    "plt.subplot(121)\n",
    "plt.xlabel('Time (s)')\n",
    "plt.ylabel('Normalized Amplitude (V)')\n",
    "plot.plot_signals(times, distorted_hammer_signals, tlim=(0.086900, 0.090900), ylim=1.1, norm=True)\n",
    "\n",
    "lv_file = \"spark@18_00_00.000.npz\"\n",
    "(times, distorted_spark_signals) = labview.load_data(lv_dir, lv_file, channels=[4])\n",
    "plt.subplot(122)\n",
    "plt.xlabel('Time (s)')\n",
    "plt.ylabel('Normalized Amplitude (V)')\n",
    "plot.plot_signals(times, distorted_spark_signals, tlim=(0.070430, 0.074430), ylim=1.1, norm=True)\n",
    "\n",
    "plt.show()"
   ]
  },
  {
   "cell_type": "markdown",
   "metadata": {
    "collapsed": true
   },
   "source": [
    "## Undistorted Hammer and Spark"
   ]
  },
  {
   "cell_type": "code",
   "execution_count": null,
   "metadata": {
    "collapsed": false
   },
   "outputs": [],
   "source": [
    "#%matplotlib qt\n",
    "lv_dir = \"C:\\\\Users\\\\plane\\\\Desktop\\\\Data\\\\ASC\\\\20130920\\\\\"\n",
    "if platform.system() == 'Linux':\n",
    "    lv_dir = \"/home/lane/Data/ASC/20130920/\"\n",
    "lv_file = \"spark_1_36@18_00_00.000.npz\"\n",
    "(times, good_hammer_signals) = labview.load_data(lv_dir, lv_file, channels=[0,1,2,3,4,5])\n",
    "ymax = np.max(good_hammer_signals)\n",
    "good_hammer_signals /= ymax\n",
    "fig = plt.figure(figsize=(14.0, 4.0))\n",
    "#fig.suptitle(\"RF Hammer Signals\", fontsize=12)\n",
    "plt.subplot(121)\n",
    "plt.xlabel('Time (s)')\n",
    "plt.ylabel('Normalized Amplitude (V)')\n",
    "plot.plot_signals(times, good_hammer_signals, tlim=(0.086338, 0.090338), ylim=1.1, norm=False)\n",
    "\n",
    "lv_dir = \"C:\\\\Users\\\\plane\\\\Desktop\\\\Data\\\\ASC\\\\20131011\\\\\"\n",
    "lv_file = \"spark_1_6@18_00_00.000.npz\"\n",
    "(times, good_spark_signals) = labview.load_data(lv_dir, lv_file, channels=[0,1,2,3,4,5])\n",
    "ymax = np.max(good_spark_signals)\n",
    "good_spark_signals /= ymax\n",
    "plt.subplot(122)\n",
    "plt.xlabel('Time (s)')\n",
    "plt.ylabel('Normalized Amplitude (V)')\n",
    "plot.plot_signals(times, good_spark_signals, tlim=(0.051718, 0.055718), ylim=1.1, norm=False)\n",
    "\n",
    "plt.show()"
   ]
  },
  {
   "cell_type": "markdown",
   "metadata": {},
   "source": [
    "## Spark vs Reduced"
   ]
  },
  {
   "cell_type": "code",
   "execution_count": null,
   "metadata": {
    "collapsed": true
   },
   "outputs": [],
   "source": [
    "#%matplotlib qt\n",
    "lv_dir = \"C:\\\\Users\\\\plane\\\\Desktop\\\\Data\\\\ASC\\\\20131011\\\\\"\n",
    "if platform.system() == 'Linux':\n",
    "    lv_dir = \"/home/lane/Data/ASC/20131011/\"\n",
    "lv_file = \"spark_1_6@18_00_00.000.npz\"\n",
    "(times, spark_signals) = labview.load_data(lv_dir, lv_file, channels=[0,1,2,3,4,5])\n",
    "fig = plt.figure(figsize=(14.0, 4.0))\n",
    "#fig.suptitle(\"RF Hammer Signals\", fontsize=12)\n",
    "plt.subplot(121)\n",
    "plt.xlabel('Time (s)')\n",
    "plt.ylabel('Amplitude (V)')\n",
    "plot.plot_signals(times, spark_signals, tlim=(0.0518, 0.0716), ylim=12, norm=False)\n",
    "\n",
    "lv_file = \"reduced_1_6@18_00_00.000.npz\"\n",
    "(times, reduced_signals) = labview.load_data(lv_dir, lv_file, channels=[0,1,2,3,4,5])\n",
    "plt.subplot(122)\n",
    "plt.xlabel('Time (s)')\n",
    "plt.ylabel('Amplitude (V)')\n",
    "plot.plot_signals(times, reduced_signals, tlim=(0.0518, 0.0716), ylim=12, norm=False)\n",
    "\n",
    "plt.show()"
   ]
  }
 ],
 "metadata": {
  "kernelspec": {
   "display_name": "Python 2",
   "language": "python",
   "name": "python2"
  },
  "language_info": {
   "codemirror_mode": {
    "name": "ipython",
    "version": 2
   },
   "file_extension": ".py",
   "mimetype": "text/x-python",
   "name": "python",
   "nbconvert_exporter": "python",
   "pygments_lexer": "ipython2",
   "version": "2.7.10"
  }
 },
 "nbformat": 4,
 "nbformat_minor": 0
}
